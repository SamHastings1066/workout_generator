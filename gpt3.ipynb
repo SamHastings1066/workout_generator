{
 "cells": [
  {
   "cell_type": "code",
   "execution_count": 2,
   "id": "1f7fbc55",
   "metadata": {},
   "outputs": [],
   "source": [
    "import openai\n",
    "import os"
   ]
  },
  {
   "cell_type": "code",
   "execution_count": 3,
   "id": "dca98157",
   "metadata": {},
   "outputs": [],
   "source": [
    "openai.api_key = os.getenv(\"OPENAI_API_KEY\")"
   ]
  },
  {
   "cell_type": "code",
   "execution_count": 8,
   "id": "01441e6a",
   "metadata": {},
   "outputs": [],
   "source": [
    "prompt1 = '''{}. Generate a workout plan according to the preceding criteria.'''"
   ]
  },
  {
   "cell_type": "code",
   "execution_count": 12,
   "id": "4b611fe6",
   "metadata": {},
   "outputs": [],
   "source": [
    "user_input = '''I am slightly overweight. Please generate me a fat burning workout that will last no longer than one hour including a warm up, main exercises and a warm down. Please explain what I can do to reduce the risk of injuries.'''"
   ]
  },
  {
   "cell_type": "code",
   "execution_count": 13,
   "id": "118a8c73",
   "metadata": {},
   "outputs": [],
   "source": [
    "prompt1_final = prompt1.format(user_input)"
   ]
  },
  {
   "cell_type": "code",
   "execution_count": 14,
   "id": "65a02631",
   "metadata": {},
   "outputs": [
    {
     "data": {
      "text/plain": [
       "'I am slightly overweight. Please generate me a fat burning workout that will last no longer than one hour including a warm up, main exercises and a warm down. Please explain what I can do to reduce the risk of injuries.. Generate a workout plan according to the preceding criteria.'"
      ]
     },
     "execution_count": 14,
     "metadata": {},
     "output_type": "execute_result"
    }
   ],
   "source": [
    "prompt1_final"
   ]
  },
  {
   "cell_type": "code",
   "execution_count": 15,
   "id": "98b7fc73",
   "metadata": {},
   "outputs": [],
   "source": [
    "response = openai.Completion.create(engine=\"text-davinci-002\", prompt=prompt1_final, temperature=0, max_tokens=2000)"
   ]
  },
  {
   "cell_type": "code",
   "execution_count": 16,
   "id": "915d5619",
   "metadata": {},
   "outputs": [
    {
     "data": {
      "text/plain": [
       "<OpenAIObject text_completion id=cmpl-4z5FH1IrIz6Afx26iyKAL7KgS3cZ5 at 0x108ae2f90> JSON: {\n",
       "  \"choices\": [\n",
       "    {\n",
       "      \"finish_reason\": \"stop\",\n",
       "      \"index\": 0,\n",
       "      \"logprobs\": null,\n",
       "      \"text\": \"\\n\\nWarm up:\\n\\n-5 minutes of light cardio (jogging in place, jumping jacks, etc.)\\n\\nMain exercises:\\n\\n-20 minutes of HIIT (high intensity interval training)\\n-10 minutes of strength training (weightlifting, bodyweight exercises, etc.)\\n\\nWarm down:\\n\\n-5 minutes of light cardio\\n\\nTo reduce the risk of injuries, be sure to warm up properly before starting the main exercises and cool down afterwards. Also, listen to your body and don't push yourself too hard.\"\n",
       "    }\n",
       "  ],\n",
       "  \"created\": 1650463519,\n",
       "  \"id\": \"cmpl-4z5FH1IrIz6Afx26iyKAL7KgS3cZ5\",\n",
       "  \"model\": \"text-davinci:002\",\n",
       "  \"object\": \"text_completion\"\n",
       "}"
      ]
     },
     "execution_count": 16,
     "metadata": {},
     "output_type": "execute_result"
    }
   ],
   "source": [
    "response"
   ]
  },
  {
   "cell_type": "code",
   "execution_count": 23,
   "id": "e555f9cd",
   "metadata": {},
   "outputs": [],
   "source": [
    "prompt2 = \"{}. Please create a python list containing all of the exercises described in the preceding text. ['\".format(response.choices[0].text)"
   ]
  },
  {
   "cell_type": "code",
   "execution_count": 24,
   "id": "f109154f",
   "metadata": {},
   "outputs": [
    {
     "data": {
      "text/plain": [
       "\"\\n\\nWarm up:\\n\\n-5 minutes of light cardio (jogging in place, jumping jacks, etc.)\\n\\nMain exercises:\\n\\n-20 minutes of HIIT (high intensity interval training)\\n-10 minutes of strength training (weightlifting, bodyweight exercises, etc.)\\n\\nWarm down:\\n\\n-5 minutes of light cardio\\n\\nTo reduce the risk of injuries, be sure to warm up properly before starting the main exercises and cool down afterwards. Also, listen to your body and don't push yourself too hard.. Please create a python list containing all of the exercises described in the preceding text. ['\""
      ]
     },
     "execution_count": 24,
     "metadata": {},
     "output_type": "execute_result"
    }
   ],
   "source": [
    "prompt2"
   ]
  },
  {
   "cell_type": "code",
   "execution_count": 25,
   "id": "f00f2bd3",
   "metadata": {},
   "outputs": [],
   "source": [
    "response2 = openai.Completion.create(engine=\"text-davinci-002\", prompt=prompt2, temperature=0, max_tokens=2000)"
   ]
  },
  {
   "cell_type": "code",
   "execution_count": 26,
   "id": "0be0764d",
   "metadata": {},
   "outputs": [
    {
     "data": {
      "text/plain": [
       "<OpenAIObject text_completion id=cmpl-4z5KY4RikIPCcdvKLnn2JSKTefyxe at 0x107be4720> JSON: {\n",
       "  \"choices\": [\n",
       "    {\n",
       "      \"finish_reason\": \"stop\",\n",
       "      \"index\": 0,\n",
       "      \"logprobs\": null,\n",
       "      \"text\": \"light cardio', 'HIIT', 'strength training', 'light cardio']\"\n",
       "    }\n",
       "  ],\n",
       "  \"created\": 1650463846,\n",
       "  \"id\": \"cmpl-4z5KY4RikIPCcdvKLnn2JSKTefyxe\",\n",
       "  \"model\": \"text-davinci:002\",\n",
       "  \"object\": \"text_completion\"\n",
       "}"
      ]
     },
     "execution_count": 26,
     "metadata": {},
     "output_type": "execute_result"
    }
   ],
   "source": [
    "response2"
   ]
  },
  {
   "cell_type": "code",
   "execution_count": 30,
   "id": "d5213ce9",
   "metadata": {},
   "outputs": [
    {
     "name": "stdout",
     "output_type": "stream",
     "text": [
      "https://www.youtube.com/watch?v=shoVsQhou-8\n"
     ]
    }
   ],
   "source": [
    "import urllib.request\n",
    "import re\n",
    "\n",
    "html = urllib.request.urlopen(\"https://www.youtube.com/results?search_query=mozart\")\n",
    "video_ids = re.findall(r\"watch\\?v=(\\S{11})\", html.read().decode())\n",
    "print(\"https://www.youtube.com/watch?v=\" + video_ids[0])"
   ]
  },
  {
   "cell_type": "code",
   "execution_count": 39,
   "id": "675e0f6f",
   "metadata": {},
   "outputs": [],
   "source": [
    "def find_url(query_string):\n",
    "    query_string = query_string.replace(\" \", \"+\")\n",
    "    html = urllib.request.urlopen(\"https://www.youtube.com/results?search_query={}\".format(query_string))\n",
    "    video_ids = re.findall(r\"watch\\?v=(\\S{11})\", html.read().decode())\n",
    "    return \"https://www.youtube.com/watch?v=\" + video_ids[0]\n",
    "    "
   ]
  },
  {
   "cell_type": "code",
   "execution_count": 36,
   "id": "75f39dce",
   "metadata": {},
   "outputs": [],
   "source": [
    "import ast"
   ]
  },
  {
   "cell_type": "code",
   "execution_count": 37,
   "id": "fb8dbba1",
   "metadata": {},
   "outputs": [],
   "source": [
    "final_response = ast.literal_eval(\"['\" + response2.choices[0].text)"
   ]
  },
  {
   "cell_type": "code",
   "execution_count": 43,
   "id": "cc090a97",
   "metadata": {},
   "outputs": [
    {
     "name": "stdout",
     "output_type": "stream",
     "text": [
      "light cardio https://www.youtube.com/watch?v=PvEnWsPrL4w\n",
      "HIIT https://www.youtube.com/watch?v=ml6cT4AZdqI\n",
      "strength training https://www.youtube.com/watch?v=-5ztdzyQkSQ\n",
      "light cardio https://www.youtube.com/watch?v=PvEnWsPrL4w\n"
     ]
    }
   ],
   "source": [
    "#urls=[]\n",
    "for item in final_response:\n",
    "    #urls.append(find_url(item))\n",
    "    print(item, find_url(item))"
   ]
  },
  {
   "cell_type": "code",
   "execution_count": 42,
   "id": "a34dc523",
   "metadata": {},
   "outputs": [
    {
     "data": {
      "text/plain": [
       "['https://www.youtube.com/watch?v=PvEnWsPrL4w',\n",
       " 'https://www.youtube.com/watch?v=ml6cT4AZdqI',\n",
       " 'https://www.youtube.com/watch?v=-5ztdzyQkSQ',\n",
       " 'https://www.youtube.com/watch?v=PvEnWsPrL4w']"
      ]
     },
     "execution_count": 42,
     "metadata": {},
     "output_type": "execute_result"
    }
   ],
   "source": [
    "urls"
   ]
  },
  {
   "cell_type": "code",
   "execution_count": 44,
   "id": "58094196",
   "metadata": {},
   "outputs": [],
   "source": [
    "import json"
   ]
  },
  {
   "cell_type": "code",
   "execution_count": 45,
   "id": "5a941faf",
   "metadata": {},
   "outputs": [
    {
     "ename": "ModuleNotFoundError",
     "evalue": "No module named 'streamlit'",
     "output_type": "error",
     "traceback": [
      "\u001b[0;31m---------------------------------------------------------------------------\u001b[0m",
      "\u001b[0;31mModuleNotFoundError\u001b[0m                       Traceback (most recent call last)",
      "Input \u001b[0;32mIn [45]\u001b[0m, in \u001b[0;36m<cell line: 1>\u001b[0;34m()\u001b[0m\n\u001b[0;32m----> 1\u001b[0m \u001b[38;5;28;01mimport\u001b[39;00m \u001b[38;5;21;01mstreamlit\u001b[39;00m\n",
      "\u001b[0;31mModuleNotFoundError\u001b[0m: No module named 'streamlit'"
     ]
    }
   ],
   "source": [
    "import streamlit"
   ]
  },
  {
   "cell_type": "code",
   "execution_count": 47,
   "id": "e937ee68",
   "metadata": {},
   "outputs": [
    {
     "data": {
      "text/plain": [
       "'walking+correct+technique'"
      ]
     },
     "execution_count": 47,
     "metadata": {},
     "output_type": "execute_result"
    }
   ],
   "source": [
    "query_string=\"walking\"\n",
    "query_string = query_string + \"+correct+technique\"\n",
    "query_string"
   ]
  },
  {
   "cell_type": "code",
   "execution_count": null,
   "id": "2fcfa9b5",
   "metadata": {},
   "outputs": [],
   "source": []
  }
 ],
 "metadata": {
  "kernelspec": {
   "display_name": "Python 3 (ipykernel)",
   "language": "python",
   "name": "python3"
  },
  "language_info": {
   "codemirror_mode": {
    "name": "ipython",
    "version": 3
   },
   "file_extension": ".py",
   "mimetype": "text/x-python",
   "name": "python",
   "nbconvert_exporter": "python",
   "pygments_lexer": "ipython3",
   "version": "3.9.7"
  }
 },
 "nbformat": 4,
 "nbformat_minor": 5
}
