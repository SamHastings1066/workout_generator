{
 "cells": [
  {
   "cell_type": "code",
   "execution_count": 1,
   "id": "4914af29",
   "metadata": {},
   "outputs": [],
   "source": [
    "from __future__ import unicode_literals, print_function\n",
    "import plac\n",
    "import random\n",
    "from pathlib import Path\n",
    "import spacy\n",
    "from tqdm import tqdm\n",
    "import regex as re"
   ]
  },
  {
   "cell_type": "code",
   "execution_count": 44,
   "id": "4bbec963",
   "metadata": {},
   "outputs": [],
   "source": [
    "def find_ind(sub, string):\n",
    "    iter = re.finditer(r\"\\b{}\\b\".format(sub), string)\n",
    "    indices = [[m.start(0), m.end(0)] for m in iter]\n",
    "    return indices\n",
    "\n",
    "def find_all_inds(subs, string):\n",
    "    all_inds=[]\n",
    "    for sub in subs:\n",
    "        indices = find_ind(sub, string)\n",
    "        for ind in indices:\n",
    "            ind.append('EX')\n",
    "        all_inds.extend(indices)\n",
    "    return all_inds\n",
    "\n",
    "def create_example(subs, string):\n",
    "    all_inds = find_all_inds(subs, string)\n",
    "    result_dict = {'entities':all_inds}\n",
    "    return (string,result_dict)"
   ]
  },
  {
   "cell_type": "code",
   "execution_count": 51,
   "id": "3791c578",
   "metadata": {},
   "outputs": [],
   "source": [
    "TRAIN_DATA = []"
   ]
  },
  {
   "cell_type": "markdown",
   "id": "0f97e397",
   "metadata": {},
   "source": [
    "Warm up:\n",
    "\n",
    "-5 minutes of light cardio (jogging in place, jumping jacks, etc.)\n",
    "\n",
    "Main exercises:\n",
    "\n",
    "-20 minutes of HIIT (high intensity interval training)\n",
    "-10 minutes of strength training (weightlifting, bodyweight exercises, etc.)\n",
    "\n",
    "Warm down:\n",
    "\n",
    "-5 minutes of light cardio\n",
    "\n",
    "To reduce the risk of injuries, be sure to warm up properly before starting the main exercises and cool down afterwards. Also, listen to your body and don't push yourself too hard. If you feel pain, stop the exercise and rest."
   ]
  },
  {
   "cell_type": "code",
   "execution_count": 48,
   "id": "00a0882d",
   "metadata": {},
   "outputs": [],
   "source": [
    "warm_up = '''Warm up: -5 minutes of light cardio (jogging in place, jumping jacks, etc.)'''"
   ]
  },
  {
   "cell_type": "code",
   "execution_count": 49,
   "id": "9862dd9d",
   "metadata": {},
   "outputs": [],
   "source": [
    "subs = ['jogging','jumping jacks']\n",
    "string = warm_up"
   ]
  },
  {
   "cell_type": "code",
   "execution_count": 52,
   "id": "0a1be914",
   "metadata": {},
   "outputs": [],
   "source": [
    "TRAIN_DATA.append(create_example(subs, string))"
   ]
  },
  {
   "cell_type": "code",
   "execution_count": 55,
   "id": "9ffdb097",
   "metadata": {},
   "outputs": [],
   "source": [
    "main = \"Main exercises: -20 minutes of HIIT (high intensity interval training) -10 minutes of strength training (weightlifting, bodyweight exercises, etc.)\""
   ]
  },
  {
   "cell_type": "code",
   "execution_count": null,
   "id": "4ba09790",
   "metadata": {},
   "outputs": [],
   "source": [
    "subs = ['HIIT', 'high intensity interval training',]"
   ]
  }
 ],
 "metadata": {
  "kernelspec": {
   "display_name": "Python 3 (ipykernel)",
   "language": "python",
   "name": "python3"
  },
  "language_info": {
   "codemirror_mode": {
    "name": "ipython",
    "version": 3
   },
   "file_extension": ".py",
   "mimetype": "text/x-python",
   "name": "python",
   "nbconvert_exporter": "python",
   "pygments_lexer": "ipython3",
   "version": "3.9.7"
  }
 },
 "nbformat": 4,
 "nbformat_minor": 5
}
