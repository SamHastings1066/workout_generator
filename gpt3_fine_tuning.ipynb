{
 "cells": [
  {
   "cell_type": "code",
   "execution_count": 26,
   "id": "dc295794",
   "metadata": {},
   "outputs": [],
   "source": [
    "import pandas as pd"
   ]
  },
  {
   "cell_type": "code",
   "execution_count": 27,
   "id": "f1682274",
   "metadata": {},
   "outputs": [],
   "source": [
    "df = pd.read_csv(\"workouts.csv\")"
   ]
  },
  {
   "cell_type": "code",
   "execution_count": 28,
   "id": "58314801",
   "metadata": {},
   "outputs": [],
   "source": [
    "df.columns =[\"prompt\", \"completion\"]"
   ]
  },
  {
   "cell_type": "code",
   "execution_count": 29,
   "id": "99b3c789",
   "metadata": {},
   "outputs": [
    {
     "data": {
      "text/html": [
       "<div>\n",
       "<style scoped>\n",
       "    .dataframe tbody tr th:only-of-type {\n",
       "        vertical-align: middle;\n",
       "    }\n",
       "\n",
       "    .dataframe tbody tr th {\n",
       "        vertical-align: top;\n",
       "    }\n",
       "\n",
       "    .dataframe thead th {\n",
       "        text-align: right;\n",
       "    }\n",
       "</style>\n",
       "<table border=\"1\" class=\"dataframe\">\n",
       "  <thead>\n",
       "    <tr style=\"text-align: right;\">\n",
       "      <th></th>\n",
       "      <th>prompt</th>\n",
       "      <th>completion</th>\n",
       "    </tr>\n",
       "  </thead>\n",
       "  <tbody>\n",
       "    <tr>\n",
       "      <th>0</th>\n",
       "      <td>I've injured my ankle and foot, but I'd still ...</td>\n",
       "      <td>If your ankle or foot is injured, you still ha...</td>\n",
       "    </tr>\n",
       "    <tr>\n",
       "      <th>1</th>\n",
       "      <td>I'd like two circuit training routines that I ...</td>\n",
       "      <td>Leg and knee injuries can be fairly limiting f...</td>\n",
       "    </tr>\n",
       "    <tr>\n",
       "      <th>2</th>\n",
       "      <td>I would like an exercise circuit that I can do...</td>\n",
       "      <td>Shoulder or other upper body injuries often al...</td>\n",
       "    </tr>\n",
       "    <tr>\n",
       "      <th>3</th>\n",
       "      <td>I would like general advice about exercising w...</td>\n",
       "      <td>Back injuries can be difficult to recover from...</td>\n",
       "    </tr>\n",
       "    <tr>\n",
       "      <th>4</th>\n",
       "      <td>I'm a runner and I would like some exercises a...</td>\n",
       "      <td>1. Pool running\\nAlso known as aqua jogging, i...</td>\n",
       "    </tr>\n",
       "  </tbody>\n",
       "</table>\n",
       "</div>"
      ],
      "text/plain": [
       "                                              prompt  \\\n",
       "0  I've injured my ankle and foot, but I'd still ...   \n",
       "1  I'd like two circuit training routines that I ...   \n",
       "2  I would like an exercise circuit that I can do...   \n",
       "3  I would like general advice about exercising w...   \n",
       "4  I'm a runner and I would like some exercises a...   \n",
       "\n",
       "                                          completion  \n",
       "0  If your ankle or foot is injured, you still ha...  \n",
       "1  Leg and knee injuries can be fairly limiting f...  \n",
       "2  Shoulder or other upper body injuries often al...  \n",
       "3  Back injuries can be difficult to recover from...  \n",
       "4  1. Pool running\\nAlso known as aqua jogging, i...  "
      ]
     },
     "execution_count": 29,
     "metadata": {},
     "output_type": "execute_result"
    }
   ],
   "source": [
    "df.head()"
   ]
  },
  {
   "cell_type": "code",
   "execution_count": 30,
   "id": "6fdd5067",
   "metadata": {},
   "outputs": [],
   "source": [
    "def create_fine_tuning_df(df):\n",
    "    '''\n",
    "    Format workouts dataset according to openai best practice for fine tuning\n",
    "    \n",
    "    Parameters\n",
    "    ----------\n",
    "    df: pd.DataFrame\n",
    "        The dataframe containing human made prompt, completion pairs\n",
    "    \n",
    "    Returns\n",
    "    -------\n",
    "    pd.DataFrame\n",
    "        The reformatted dataframe\n",
    "    '''\n",
    "    rows = []\n",
    "    for i, row in df.iterrows():\n",
    "        rows.append({\"prompt\":f\"{row.prompt} \\n\\n###\\n\\n\", \"completion\":f\" {row.completion} ###\"})\n",
    "    return pd.DataFrame(rows)\n",
    "\n",
    "fine_tuning_df = create_fine_tuning_df(df)"
   ]
  },
  {
   "cell_type": "code",
   "execution_count": 32,
   "id": "004256a9",
   "metadata": {},
   "outputs": [],
   "source": [
    "fine_tuning_df.to_json(f'ft_data.jsonl', orient='records', lines=True)"
   ]
  },
  {
   "cell_type": "markdown",
   "id": "28a9be5d",
   "metadata": {},
   "source": [
    "Run the openai fine tuning tool to suggests improvements in your data formatting for fine-tuning."
   ]
  },
  {
   "cell_type": "code",
   "execution_count": 33,
   "id": "ce09ea43",
   "metadata": {},
   "outputs": [
    {
     "name": "stdout",
     "output_type": "stream",
     "text": [
      "Logging requires wandb to be installed. Run `pip install wandb`.\n",
      "Analyzing...\n",
      "\n",
      "- Your file contains 59 prompt-completion pairs. In general, we recommend having at least a few hundred examples. We've found that performance tends to linearly increase for every doubling of the number of examples\n",
      "- All prompts end with suffix ` \\n\\n###\\n\\n`\n",
      "- All completions end with suffix ` ###`\n",
      "\n",
      "No remediations found.\n",
      "\n",
      "You can use your file for fine-tuning:\n",
      "> openai api fine_tunes.create -t \"ft_data.jsonl\"\n",
      "\n",
      "After you’ve fine-tuned a model, remember that your prompt has to end with the indicator string ` \\n\\n###\\n\\n` for the model to start generating completions, rather than continuing with the prompt. Make sure to include `stop=[\" ###\"]` so that the generated texts ends at the expected place.\n",
      "Once your model starts training, it'll approximately take 3.25 minutes to train a `curie` model, and less for `ada` and `babbage`. Queue will approximately take half an hour per job ahead of you.\n"
     ]
    }
   ],
   "source": [
    "!openai tools fine_tunes.prepare_data -f ft_data.jsonl"
   ]
  },
  {
   "cell_type": "code",
   "execution_count": 34,
   "id": "add8c0ad",
   "metadata": {},
   "outputs": [
    {
     "name": "stdout",
     "output_type": "stream",
     "text": [
      "Logging requires wandb to be installed. Run `pip install wandb`.\n",
      "Upload progress: 100%|████████████████████| 76.9k/76.9k [00:00<00:00, 26.2Mit/s]\n",
      "Uploaded file from ft_data.jsonl: file-p3hbn0BlkQRFPwwbrrskLdw5\n",
      "Created fine-tune: ft-sz4DVDfgMRCaHLBiu7XBr4nB\n",
      "Streaming events until fine-tuning is complete...\n",
      "\n",
      "(Ctrl-C will interrupt the stream, but not cancel the fine-tune)\n",
      "[2022-04-25 12:42:56] Created fine-tune: ft-sz4DVDfgMRCaHLBiu7XBr4nB\n",
      "[2022-04-25 12:43:10] Fine-tune costs $2.37\n",
      "[2022-04-25 12:43:11] Fine-tune enqueued. Queue number: 0\n",
      "[2022-04-25 12:43:15] Fine-tune started\n",
      "[2022-04-25 12:46:55] Completed epoch 1/4\n",
      "[2022-04-25 12:47:26] Completed epoch 2/4\n",
      "[2022-04-25 12:47:57] Completed epoch 3/4\n",
      "[2022-04-25 12:48:28] Completed epoch 4/4\n",
      "[2022-04-25 12:49:01] Uploaded model: davinci:ft-personal:workout-generator-v1-2022-04-25-16-48-59\n",
      "[2022-04-25 12:49:04] Uploaded result file: file-mDaWvTvgkNfk8Mt8zyTLoeEC\n",
      "[2022-04-25 12:49:05] Fine-tune succeeded\n",
      "\n",
      "Job complete! Status: succeeded 🎉\n",
      "Try out your fine-tuned model:\n",
      "\n",
      "openai api completions.create -m davinci:ft-personal:workout-generator-v1-2022-04-25-16-48-59 -p <YOUR_PROMPT>\n"
     ]
    }
   ],
   "source": [
    "openai api fine_tunes.create -t ft_data.jsonl -m davinci --suffix \"workout_generator_m1\""
   ]
  },
  {
   "cell_type": "code",
   "execution_count": 38,
   "id": "e156214b",
   "metadata": {},
   "outputs": [
    {
     "name": "stdout",
     "output_type": "stream",
     "text": [
      "Logging requires wandb to be installed. Run `pip install wandb`.\n",
      "squats, and inverted rows. Choose those exercises, or better yet, use the"
     ]
    }
   ],
   "source": [
    "!openai api completions.create -m davinci:ft-personal:workout-generator-v1-2022-04-25-16-48-59 -p squats"
   ]
  },
  {
   "cell_type": "code",
   "execution_count": 39,
   "id": "31429837",
   "metadata": {},
   "outputs": [],
   "source": [
    "import openai\n",
    "import os\n",
    "openai.api_key = os.getenv(\"OPENAI_API_KEY\")"
   ]
  },
  {
   "cell_type": "code",
   "execution_count": 43,
   "id": "5e6a5bf2",
   "metadata": {},
   "outputs": [],
   "source": [
    "prompt =\"i want to do exercises to increase the size of my butt \\n\\n###\\n\\n\"\n",
    "model = \"davinci:ft-personal:workout-generator-v1-2022-04-25-16-48-59\""
   ]
  },
  {
   "cell_type": "code",
   "execution_count": 45,
   "id": "49370167",
   "metadata": {},
   "outputs": [],
   "source": [
    "response = openai.Completion.create(model=model, prompt=prompt, stop=[\" ###\"], temperature=0, max_tokens=2000)"
   ]
  },
  {
   "cell_type": "code",
   "execution_count": 46,
   "id": "c617b7ea",
   "metadata": {},
   "outputs": [
    {
     "data": {
      "text/plain": [
       "<OpenAIObject text_completion id=cmpl-50xHAauMAove41eIodx2VjQm7dXxH at 0x1469ec810> JSON: {\n",
       "  \"choices\": [\n",
       "    {\n",
       "      \"finish_reason\": \"stop\",\n",
       "      \"index\": 0,\n",
       "      \"logprobs\": null,\n",
       "      \"text\": \" Sissy Squats\\n\\nBanded Hip Hinge\\n\\nBanded Hip Hinge\\n\\nGlute Bridge\\n\\nGlute Bridge\\n\\nDumbbell Single Leg Deadlift\\n\\nDumbbell Single Leg Deadlift\\n\\nDumbbell Stiff Leg Deadlift\\n\\nDumbbell Stiff Leg Deadlift\\n\\nDumbbell Single Leg Deadlift\\n\\nDumbbell Single Leg Deadlift\\n\\nGlute Bridge March\\n\\nGlute Bridge March\\n\\nBanded Hip Hinge\\n\\nBanded Hip Hinge\\n\\nBanded Single Leg Deadlift\\n\\nBanded Single Leg Deadlift\\n\\nBanded Single Leg Deadlift\\n\\nBanded Single Leg Deadlift\\n\\nPelvic Tilt\\n\\nPelvic Tilt\\n\\nPelvic Tilt\\n\\nPelvic Tilt\"\n",
       "    }\n",
       "  ],\n",
       "  \"created\": 1650909540,\n",
       "  \"id\": \"cmpl-50xHAauMAove41eIodx2VjQm7dXxH\",\n",
       "  \"model\": \"davinci:ft-personal:workout-generator-v1-2022-04-25-16-48-59\",\n",
       "  \"object\": \"text_completion\"\n",
       "}"
      ]
     },
     "execution_count": 46,
     "metadata": {},
     "output_type": "execute_result"
    }
   ],
   "source": [
    "response"
   ]
  },
  {
   "cell_type": "code",
   "execution_count": 47,
   "id": "b3cb7037",
   "metadata": {},
   "outputs": [
    {
     "data": {
      "text/html": [
       "<div>\n",
       "<style scoped>\n",
       "    .dataframe tbody tr th:only-of-type {\n",
       "        vertical-align: middle;\n",
       "    }\n",
       "\n",
       "    .dataframe tbody tr th {\n",
       "        vertical-align: top;\n",
       "    }\n",
       "\n",
       "    .dataframe thead th {\n",
       "        text-align: right;\n",
       "    }\n",
       "</style>\n",
       "<table border=\"1\" class=\"dataframe\">\n",
       "  <thead>\n",
       "    <tr style=\"text-align: right;\">\n",
       "      <th></th>\n",
       "      <th>prompt</th>\n",
       "      <th>completion</th>\n",
       "    </tr>\n",
       "  </thead>\n",
       "  <tbody>\n",
       "    <tr>\n",
       "      <th>0</th>\n",
       "      <td>I've injured my ankle and foot, but I'd still ...</td>\n",
       "      <td>If your ankle or foot is injured, you still ha...</td>\n",
       "    </tr>\n",
       "    <tr>\n",
       "      <th>1</th>\n",
       "      <td>I'd like two circuit training routines that I ...</td>\n",
       "      <td>Leg and knee injuries can be fairly limiting f...</td>\n",
       "    </tr>\n",
       "    <tr>\n",
       "      <th>2</th>\n",
       "      <td>I would like an exercise circuit that I can do...</td>\n",
       "      <td>Shoulder or other upper body injuries often al...</td>\n",
       "    </tr>\n",
       "    <tr>\n",
       "      <th>3</th>\n",
       "      <td>I would like general advice about exercising w...</td>\n",
       "      <td>Back injuries can be difficult to recover from...</td>\n",
       "    </tr>\n",
       "    <tr>\n",
       "      <th>4</th>\n",
       "      <td>I'm a runner and I would like some exercises a...</td>\n",
       "      <td>1. Pool running\\nAlso known as aqua jogging, i...</td>\n",
       "    </tr>\n",
       "  </tbody>\n",
       "</table>\n",
       "</div>"
      ],
      "text/plain": [
       "                                              prompt  \\\n",
       "0  I've injured my ankle and foot, but I'd still ...   \n",
       "1  I'd like two circuit training routines that I ...   \n",
       "2  I would like an exercise circuit that I can do...   \n",
       "3  I would like general advice about exercising w...   \n",
       "4  I'm a runner and I would like some exercises a...   \n",
       "\n",
       "                                          completion  \n",
       "0  If your ankle or foot is injured, you still ha...  \n",
       "1  Leg and knee injuries can be fairly limiting f...  \n",
       "2  Shoulder or other upper body injuries often al...  \n",
       "3  Back injuries can be difficult to recover from...  \n",
       "4  1. Pool running\\nAlso known as aqua jogging, i...  "
      ]
     },
     "execution_count": 47,
     "metadata": {},
     "output_type": "execute_result"
    }
   ],
   "source": [
    "df.head()"
   ]
  },
  {
   "cell_type": "code",
   "execution_count": 53,
   "id": "3207d2d3",
   "metadata": {},
   "outputs": [
    {
     "data": {
      "text/plain": [
       "\"Full-Body Workout 1\\nThe first two movements for this session are the barbell hip thrust and the hyperextension. These are two very effective movements if they are done properly.\\n\\nBarbell Hip Thrust – Make sure the barbell is in a position that you’re comfortable with. If you need a towel or mat around the bar, don’t be afraid to use it. The more comfortable you can be, the more beneficial the exercise is. When you lift the barbell up, make sure the glutes contract hard. Hold that position before slowly lowering the weight back down.\\n\\nHyperextension - This is considered by many to be a lower back exercise. If you stop when your upper body is at a 45-degree angle, then it will isolate the lower back. Raise your upper body up, and then contract the glutes so the upper body comes up even more. Your torso should be close to vertical before you lower yourself back down. If you don’t have a hyperextension bench, a preacher bench or adjustable bench would work as well.\\n\\nThe rest of the workout includes one core movement as well as movements for the rest of the body.\\n\\nExercise\\tSets\\tReps\\tRest\\nBarbell Hip Thrust\\t3\\t8-12\\t60-90 sec\\nHyperextension\\t3\\t8-12\\t60-90 sec\\nDumbbell Squat\\t3\\t12\\t60 sec\\nLying Leg Raise\\t3\\t12\\t60 sec\\nPull Up\\t3\\t12\\t60 sec\\nBent-Over Barbell Row\\t3\\t12\\t60 sec\\nLateral Raise\\t3\\t12\\t60 sec\\nOverhead Triceps Extension\\t3\\t12\\t60 sec\\nPush Up\\t3\\t12\\t60 sec\\nFull-Body Workout 2\\nThis one will begin with two different glute exercises. The first one is going to help you get stronger while the other will maximize the mind-muscle connection.\\n\\nGood Morning – This will benefit the glutes as well as the hamstrings and lower back. Don’t go super-heavy on it. There has never been a good morning competition, so more isn’t necessarily better. If you can’t handle the weight for the minimum reps, lighten the load. Wear a belt if you feel it will help protect your lower back.\\n\\nGlute Kickback – This is the bodyweight version of the exercise. If you have ankle weights, add them to increase resistance. If not, hold the contraction at the top for one second during the first set, two during the second set, and three for the last. \\n\\nThe next two movements in this program will also train the glutes in a secondary role. The rest of the workout is below.\\n\\nExercise\\tSets\\tReps\\tRest\\nGood Morning\\t3\\t8-12\\t60-90 sec\\nGlute Kick Back\\t3\\t8-12\\t60-90 sec\\nStiff Leg Deadlift\\t3\\t8-12\\t60-90 sec\\nGoblet Squat\\t3\\t12\\t60 sec\\nCrunches\\t3\\t12\\t60 sec\\nIncline Dumbbell Press\\t3\\t12\\t60 sec\\nDumbbell Flys\\t3\\t12\\t60 sec\\nDumbbell Tricep Kickbacks\\t3\\t12\\t60 sec\\nPullover\\t3\\t12\\t60 sec\\nSeated Dumbbell Curl\\t3\\t12\\t60 sec\\nFull-Body Workout 3\\nThe final full-body workout of the week will begin with a contraction challenge followed by an athletic version of a classic exercise. \\n\\nBodyweight Glute Bridge - Much like planks for abs, holding a bridge will help improve stability in the glutes. If you need to start with your bodyweight alone, that is fine. If you can add a dumbbell or barbell to make the challenge more interesting, go for it.\\n\\nCurtsy Lunge – If you haven’t done these before, they may appear silly. Don’t knock them until you try them. They are challenging and will be even more so after the glutes had been pre-exhausted by the bridges. Don’t attempt to set the back foot further than you’re capable. Do the best you can, and challenge yourself as you progress. Think about contracting the glutes when you bring the leg up. Concentrate hard so the hip flexors don’t dominate the set.\\n\\nThe next two exercises are lower-body focused. With the glutes being challenged in the first two movements, the quads and hamstrings will likely be able to work harder on their own.\\n\\nExercise\\tSets\\tReps\\tRest\\nBodyweight Glute Bridge\\t3\\t15-30 sec\\t60-90 sec\\nCurtsy Lunge\\t3\\t12\\t60-90 sec\\nJump Squat\\t3\\t12\\t60 sec\\nWalking Lunge\\t3\\t12, each leg\\t60 sec\\nSide Crunch\\t3\\t12\\t60 sec\\nSeated Dumbbell Press\\t3\\t12\\t60 sec\\nRear Lateral Raise\\t3\\t12\\t60 sec\\nLying Tricep Extension\\t3\\t12\\t60 sec\\nFlat Dumbbell Fly\\t3\\t12\\t60 sec\\nT-Bar Row (or Two-Arm DB Row)\\t3\\t12\\t60 sec\\nAccessory Workout 1\\nExercise\\tSets\\tReps\\tRest\\nBodyweight Glute Bridge\\t5\\t20\\t30 sec\\nBodyweight Hip Thrust\\t5-10\\t100 total reps\\tAs needed*\\n*Perform as many reps as you can. Upon failure, rest briefly before continuing where you left off. Continue until you perform 100 total reps.\\n\\nAccessory Workout 2\\nExercise\\tSets\\tReps\\tRest\\nCurtsy Lunge\\t3\\t15\\tnone\\nBanded Good Morning*\\t3\\t15\\t30 sec\\n*If you don't have access to a band, you can use your bodyweight, a dumbbell, or a barbell.\""
      ]
     },
     "execution_count": 53,
     "metadata": {},
     "output_type": "execute_result"
    }
   ],
   "source": [
    "df['completion'][12]"
   ]
  },
  {
   "cell_type": "code",
   "execution_count": null,
   "id": "398a356e",
   "metadata": {},
   "outputs": [],
   "source": [
    "df[]"
   ]
  }
 ],
 "metadata": {
  "kernelspec": {
   "display_name": "Python 3 (ipykernel)",
   "language": "python",
   "name": "python3"
  },
  "language_info": {
   "codemirror_mode": {
    "name": "ipython",
    "version": 3
   },
   "file_extension": ".py",
   "mimetype": "text/x-python",
   "name": "python",
   "nbconvert_exporter": "python",
   "pygments_lexer": "ipython3",
   "version": "3.9.7"
  }
 },
 "nbformat": 4,
 "nbformat_minor": 5
}
